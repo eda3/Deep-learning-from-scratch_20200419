{
 "cells": [
  {
   "cell_type": "markdown",
   "metadata": {},
   "source": [
    "### 5.4.1 乗算レイヤの実装"
   ]
  },
  {
   "cell_type": "code",
   "execution_count": 2,
   "metadata": {},
   "outputs": [],
   "source": [
    "class MulLayer:\n",
    "    def __init__(self):\n",
    "        self.x = None\n",
    "        self.y = None\n",
    "\n",
    "    def forward(self, x, y):\n",
    "        self.x = x\n",
    "        self.y = y\n",
    "        out = x * y\n",
    "\n",
    "        return out\n",
    "\n",
    "    def backward(self, dout):\n",
    "        dx = dout * self.y\n",
    "        dy = dout * self.x\n",
    "\n",
    "        return dx, dy"
   ]
  },
  {
   "cell_type": "code",
   "execution_count": 3,
   "metadata": {},
   "outputs": [],
   "source": [
    "# りんご一個の値段\n",
    "apple = 100\n",
    "# りんごの個数\n",
    "apple_num = 2\n",
    "# 消費税\n",
    "tax = 1.1"
   ]
  },
  {
   "cell_type": "code",
   "execution_count": 4,
   "metadata": {},
   "outputs": [],
   "source": [
    "# layer\n",
    "mul_apple_layer = MulLayer()\n",
    "mul_tax_layer = MulLayer()"
   ]
  },
  {
   "cell_type": "code",
   "execution_count": 5,
   "metadata": {},
   "outputs": [
    {
     "name": "stdout",
     "output_type": "stream",
     "text": [
      "apple_price=200\n"
     ]
    }
   ],
   "source": [
    "# forward\n",
    "# りんごの値段を順伝播で計算\n",
    "apple_price = mul_apple_layer.forward(apple, apple_num)\n",
    "print(f\"{apple_price=}\")"
   ]
  },
  {
   "cell_type": "code",
   "execution_count": 6,
   "metadata": {},
   "outputs": [
    {
     "name": "stdout",
     "output_type": "stream",
     "text": [
      "price=220.00000000000003\n"
     ]
    }
   ],
   "source": [
    "price = mul_tax_layer.forward(apple_price, tax)\n",
    "print(f\"{price=}\")"
   ]
  },
  {
   "cell_type": "code",
   "execution_count": 7,
   "metadata": {},
   "outputs": [
    {
     "name": "stdout",
     "output_type": "stream",
     "text": [
      "\n",
      "dapple_price=1.1\n",
      "dtax=200\n"
     ]
    }
   ],
   "source": [
    "# backward\n",
    "dprice = 1\n",
    "dapple_price, dtax = mul_tax_layer.backward(dprice)\n",
    "print(\"\")\n",
    "print(f\"{dapple_price=}\")\n",
    "print(f\"{dtax=}\")"
   ]
  },
  {
   "cell_type": "code",
   "execution_count": 8,
   "metadata": {},
   "outputs": [],
   "source": [
    "dapple, dapple_num = mul_apple_layer.backward(dapple_price)"
   ]
  },
  {
   "cell_type": "code",
   "execution_count": 9,
   "metadata": {},
   "outputs": [
    {
     "name": "stdout",
     "output_type": "stream",
     "text": [
      "りんごの値段が1円上昇するごとに、全体の値段は2.2円上昇する\n",
      "dapple=2.2\n",
      "りんごの個数が1個上昇するごとに、全体の値段は110円上昇する\n",
      "dapple_num=110.00000000000001\n"
     ]
    }
   ],
   "source": [
    "print(\"りんごの値段が1円上昇するごとに、全体の値段は2.2円上昇する\")\n",
    "print(f\"{dapple=}\")\n",
    "print(\"りんごの個数が1個上昇するごとに、全体の値段は110円上昇する\")\n",
    "print(f\"{dapple_num=}\")"
   ]
  }
 ],
 "metadata": {
  "kernelspec": {
   "display_name": "Python 3",
   "language": "python",
   "name": "python3"
  },
  "language_info": {
   "codemirror_mode": {
    "name": "ipython",
    "version": 3
   },
   "file_extension": ".py",
   "mimetype": "text/x-python",
   "name": "python",
   "nbconvert_exporter": "python",
   "pygments_lexer": "ipython3",
   "version": "3.8.2"
  }
 },
 "nbformat": 4,
 "nbformat_minor": 4
}
