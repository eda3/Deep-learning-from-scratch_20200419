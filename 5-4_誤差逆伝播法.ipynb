{
 "cells": [
  {
   "cell_type": "markdown",
   "metadata": {},
   "source": [
    "### 5.4.1 乗算レイヤの実装"
   ]
  },
  {
   "cell_type": "code",
   "execution_count": 81,
   "metadata": {},
   "outputs": [],
   "source": [
    "class MulLayer:\n",
    "    def __init__(self):\n",
    "        self.x = None\n",
    "        self.y = None\n",
    "\n",
    "    def forward(self, x, y):\n",
    "        self.x = x\n",
    "        self.y = y\n",
    "        out = x * y\n",
    "\n",
    "        return out\n",
    "\n",
    "    def backward(self, dout):\n",
    "        dx = dout * self.y\n",
    "        dy = dout * self.x\n",
    "\n",
    "        return dx, dy"
   ]
  },
  {
   "cell_type": "code",
   "execution_count": 82,
   "metadata": {},
   "outputs": [],
   "source": [
    "# りんご一個の値段\n",
    "apple = 100\n",
    "# りんごの個数\n",
    "apple_num = 2\n",
    "# 消費税\n",
    "tax = 1.1"
   ]
  },
  {
   "cell_type": "code",
   "execution_count": 83,
   "metadata": {},
   "outputs": [],
   "source": [
    "# layer\n",
    "mul_apple_layer = MulLayer()\n",
    "mul_tax_layer = MulLayer()"
   ]
  },
  {
   "cell_type": "code",
   "execution_count": 84,
   "metadata": {},
   "outputs": [
    {
     "name": "stdout",
     "output_type": "stream",
     "text": [
      "apple_price=200\n"
     ]
    }
   ],
   "source": [
    "# forward\n",
    "# りんごの値段を順伝播で計算\n",
    "apple_price = mul_apple_layer.forward(apple, apple_num)\n",
    "print(f\"{apple_price=}\")"
   ]
  },
  {
   "cell_type": "code",
   "execution_count": 85,
   "metadata": {},
   "outputs": [
    {
     "name": "stdout",
     "output_type": "stream",
     "text": [
      "price=220.00000000000003\n"
     ]
    }
   ],
   "source": [
    "price = mul_tax_layer.forward(apple_price, tax)\n",
    "print(f\"{price=}\")"
   ]
  },
  {
   "cell_type": "code",
   "execution_count": 86,
   "metadata": {},
   "outputs": [
    {
     "name": "stdout",
     "output_type": "stream",
     "text": [
      "\n",
      "dapple_price=1.1\n",
      "dtax=200\n"
     ]
    }
   ],
   "source": [
    "# backward\n",
    "dprice = 1\n",
    "dapple_price, dtax = mul_tax_layer.backward(dprice)\n",
    "print(\"\")\n",
    "print(f\"{dapple_price=}\")\n",
    "print(f\"{dtax=}\")"
   ]
  },
  {
   "cell_type": "code",
   "execution_count": 87,
   "metadata": {},
   "outputs": [],
   "source": [
    "dapple, dapple_num = mul_apple_layer.backward(dapple_price)"
   ]
  },
  {
   "cell_type": "code",
   "execution_count": 88,
   "metadata": {},
   "outputs": [
    {
     "name": "stdout",
     "output_type": "stream",
     "text": [
      "りんごの値段が1円上昇するごとに、全体の値段は2.2円上昇する\n",
      "dapple=2.2\n",
      "りんごの個数が1個上昇するごとに、全体の値段は110円上昇する\n",
      "dapple_num=110.00000000000001\n"
     ]
    }
   ],
   "source": [
    "print(\"りんごの値段が1円上昇するごとに、全体の値段は2.2円上昇する\")\n",
    "print(f\"{dapple=}\")\n",
    "print(\"りんごの個数が1個上昇するごとに、全体の値段は110円上昇する\")\n",
    "print(f\"{dapple_num=}\")"
   ]
  },
  {
   "cell_type": "markdown",
   "metadata": {},
   "source": [
    "### 5.4.2 加算レイヤの実装"
   ]
  },
  {
   "cell_type": "code",
   "execution_count": 89,
   "metadata": {},
   "outputs": [],
   "source": [
    "class AddLayer:\n",
    "    def __init__(self):\n",
    "        pass\n",
    "    \n",
    "    def forward(self, x, y):\n",
    "        out = x + y\n",
    "        return out\n",
    "    \n",
    "    def backward(self, dout):\n",
    "        dx = dout * 1\n",
    "        dy = dout * 1\n",
    "        return dx, dy"
   ]
  },
  {
   "cell_type": "code",
   "execution_count": 90,
   "metadata": {},
   "outputs": [],
   "source": [
    "apple = 100 # りんご1個100円\n",
    "apple_num = 2 # りんご2個買います\n",
    "orange = 150 # みかん1個150円\n",
    "orange_num = 3 # みかん3個買います\n",
    "tax = 1.1 # 消費税は10%"
   ]
  },
  {
   "cell_type": "markdown",
   "metadata": {},
   "source": [
    "### Layer"
   ]
  },
  {
   "cell_type": "code",
   "execution_count": 91,
   "metadata": {},
   "outputs": [
    {
     "name": "stdout",
     "output_type": "stream",
     "text": [
      "mul_apple_layer=<__main__.MulLayer object at 0x000001B365603CD0>\n",
      "mul_orange_layer=<__main__.MulLayer object at 0x000001B365603D90>\n",
      "add_apple_orange_layer=<__main__.AddLayer object at 0x000001B364E72C10>\n",
      "mul_tax_layer=<__main__.MulLayer object at 0x000001B3656038E0>\n"
     ]
    }
   ],
   "source": [
    "# layer\n",
    "mul_apple_layer = MulLayer()\n",
    "mul_orange_layer = MulLayer()\n",
    "add_apple_orange_layer = AddLayer()\n",
    "mul_tax_layer = MulLayer()\n",
    "print(f\"{mul_apple_layer=}\")\n",
    "print(f\"{mul_orange_layer=}\")\n",
    "print(f\"{add_apple_orange_layer=}\")\n",
    "print(f\"{mul_tax_layer=}\")"
   ]
  },
  {
   "cell_type": "markdown",
   "metadata": {},
   "source": [
    "### forward"
   ]
  },
  {
   "cell_type": "code",
   "execution_count": 92,
   "metadata": {},
   "outputs": [
    {
     "name": "stdout",
     "output_type": "stream",
     "text": [
      "apple_price=200\n"
     ]
    }
   ],
   "source": [
    "# formawd\n",
    "apple_price = mul_apple_layer.forward(apple, apple_num)\n",
    "print(f\"{apple_price=}\")"
   ]
  },
  {
   "cell_type": "code",
   "execution_count": 93,
   "metadata": {},
   "outputs": [
    {
     "name": "stdout",
     "output_type": "stream",
     "text": [
      "orange_price=450\n"
     ]
    }
   ],
   "source": [
    "orange_price = mul_orange_layer.forward(orange, orange_num)\n",
    "print(f\"{orange_price=}\")"
   ]
  },
  {
   "cell_type": "code",
   "execution_count": 94,
   "metadata": {},
   "outputs": [
    {
     "name": "stdout",
     "output_type": "stream",
     "text": [
      "all_price=650\n"
     ]
    }
   ],
   "source": [
    "all_price = add_apple_orange_layer.forward(apple_price, orange_price)\n",
    "print(f\"{all_price=}\")"
   ]
  },
  {
   "cell_type": "code",
   "execution_count": 95,
   "metadata": {},
   "outputs": [
    {
     "name": "stdout",
     "output_type": "stream",
     "text": [
      "price=715.0000000000001\n"
     ]
    }
   ],
   "source": [
    "price = mul_tax_layer.forward(all_price, tax)\n",
    "print(f\"{price=}\")"
   ]
  },
  {
   "cell_type": "markdown",
   "metadata": {},
   "source": [
    "### backward"
   ]
  },
  {
   "cell_type": "code",
   "execution_count": 96,
   "metadata": {},
   "outputs": [],
   "source": [
    "dprice = 1"
   ]
  },
  {
   "cell_type": "code",
   "execution_count": 97,
   "metadata": {},
   "outputs": [
    {
     "name": "stdout",
     "output_type": "stream",
     "text": [
      "mul_tax_layer.x=650\n"
     ]
    }
   ],
   "source": [
    "print(f\"{mul_tax_layer.x=}\")"
   ]
  },
  {
   "cell_type": "code",
   "execution_count": 98,
   "metadata": {},
   "outputs": [
    {
     "name": "stdout",
     "output_type": "stream",
     "text": [
      "dall_price=1.1\n",
      "dtax=650\n"
     ]
    }
   ],
   "source": [
    "dall_price, dtax = mul_tax_layer.backward(dprice)\n",
    "print(f\"{dall_price=}\")\n",
    "print(f\"{dtax=}\")"
   ]
  },
  {
   "cell_type": "code",
   "execution_count": 99,
   "metadata": {},
   "outputs": [
    {
     "name": "stdout",
     "output_type": "stream",
     "text": [
      "dapple_price=1.1\n",
      "dorange_price=1.1\n"
     ]
    }
   ],
   "source": [
    "dappple_price, dorange_price = add_apple_orange_layer.backward(dall_price)\n",
    "print(f\"{dapple_price=}\")\n",
    "print(f\"{dorange_price=}\")"
   ]
  },
  {
   "cell_type": "code",
   "execution_count": 100,
   "metadata": {},
   "outputs": [
    {
     "name": "stdout",
     "output_type": "stream",
     "text": [
      "dorange=3.3000000000000003\n",
      "dorange_num=165.0\n"
     ]
    }
   ],
   "source": [
    "dorange, dorange_num = mul_orange_layer.backward(dorange_price)\n",
    "print(f\"{dorange=}\")\n",
    "print(f\"{dorange_num=}\")"
   ]
  },
  {
   "cell_type": "code",
   "execution_count": 101,
   "metadata": {},
   "outputs": [
    {
     "name": "stdout",
     "output_type": "stream",
     "text": [
      "dapple=2.2\n",
      "dapple_num=110.00000000000001\n"
     ]
    }
   ],
   "source": [
    "dapple, dappple_num = mul_apple_layer.backward(dapple_price)\n",
    "print(f\"{dapple=}\")\n",
    "print(f\"{dapple_num=}\")"
   ]
  },
  {
   "cell_type": "code",
   "execution_count": 102,
   "metadata": {},
   "outputs": [
    {
     "name": "stdout",
     "output_type": "stream",
     "text": [
      "price=715.0000000000001\n"
     ]
    }
   ],
   "source": [
    "print(f\"{price=}\")"
   ]
  },
  {
   "cell_type": "code",
   "execution_count": 103,
   "metadata": {},
   "outputs": [
    {
     "name": "stdout",
     "output_type": "stream",
     "text": [
      "110.00000000000001 2.2 3.3000000000000003 165.0 650\n"
     ]
    }
   ],
   "source": [
    "print(dapple_num, dapple, dorange, dorange_num, dtax)"
   ]
  },
  {
   "cell_type": "code",
   "execution_count": null,
   "metadata": {},
   "outputs": [],
   "source": []
  }
 ],
 "metadata": {
  "kernelspec": {
   "display_name": "Python 3",
   "language": "python",
   "name": "python3"
  },
  "language_info": {
   "codemirror_mode": {
    "name": "ipython",
    "version": 3
   },
   "file_extension": ".py",
   "mimetype": "text/x-python",
   "name": "python",
   "nbconvert_exporter": "python",
   "pygments_lexer": "ipython3",
   "version": "3.8.2"
  }
 },
 "nbformat": 4,
 "nbformat_minor": 4
}
